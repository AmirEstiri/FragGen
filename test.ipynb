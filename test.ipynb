{
 "cells": [
  {
   "cell_type": "code",
   "execution_count": 5,
   "metadata": {},
   "outputs": [
    {
     "name": "stdout",
     "output_type": "stream",
     "text": [
      "ChatCompletionMessage(content=\"In the realm where code en-magicked dwells,\\nRecursive whispers in the programmer's spells.\\nAn elegantly curious concept it be,\\nUnfolding tales of boundless possibility.\\n\\nBehold, a function, a fragment of might,\\nThat doth call upon itself, like day and night.\\nIt starts with a task, commanding its might,\\nBut within its depths, a recursive flight.\\n\\nA dance of repetition, a loop unending,\\nThrough layers of dreams, it keeps extending.\\nA fractal of logic, forever unbound,\\nInfinite echoes within its own sound.\\n\\nLike a mirror reflecting its own reflection,\\nRecursive grace brings forth perfection.\\nWhy go round and round, you may query,\\nWhen to the finish line, we long to hurry?\\n\\nAh, but dear friend, hear this truth so rare,\\nRecursive power lies beyond compare.\\nFor in its embrace, problems find solution,\\nAs it navigates through code's convolution.\\n\\nLike a Russian doll unfolding, each layer anew,\\nRecursion bends reality, revealing what's true.\\nComplex tasks rendered simple and small,\\nWith its magical touch, it conquers them all.\\n\\nYet, tread with caution, this enchanted art,\\nFor in endless cycles, lies a treacherous part.\\nA misplaced intention, an ill-formed plea,\\nCan plunge you into the depths of eternity.\\n\\nBut fear not, dear coder, for wisdom is key,\\nKnow when to let go, and allow it to be.\\nMindful of exit conditions, lest chaos ensue,\\nRecursion, a crowning glory, awaits me and you.\\n\\nSo, embrace this loop of wizardry bold,\\nIn its looping embrace, mysteries unfold.\\nFor in the recursive realm, secrets reside,\\nWhere the beauty of programming truly abides.\", role='assistant', function_call=None, tool_calls=None)\n"
     ]
    }
   ],
   "source": [
    "from openai import OpenAI\n",
    "from chatbot.configure import api_keys\n",
    "\n",
    "client = OpenAI(api_key=api_keys[0])\n",
    "\n",
    "completion = client.chat.completions.create(\n",
    "  model=\"gpt-3.5-turbo\",\n",
    "  messages=[\n",
    "    {\"role\": \"system\", \"content\": \"You are a poetic assistant, skilled in explaining complex programming concepts with creative flair.\"},\n",
    "    {\"role\": \"user\", \"content\": \"Compose a poem that explains the concept of recursion in programming.\"}\n",
    "  ]\n",
    ")\n",
    "\n",
    "print(completion.choices[0].message)"
   ]
  }
 ],
 "metadata": {
  "kernelspec": {
   "display_name": "env",
   "language": "python",
   "name": "python3"
  },
  "language_info": {
   "codemirror_mode": {
    "name": "ipython",
    "version": 3
   },
   "file_extension": ".py",
   "mimetype": "text/x-python",
   "name": "python",
   "nbconvert_exporter": "python",
   "pygments_lexer": "ipython3",
   "version": "3.9.6"
  }
 },
 "nbformat": 4,
 "nbformat_minor": 2
}
